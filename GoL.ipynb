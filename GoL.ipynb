{
 "cells": [
  {
   "cell_type": "code",
   "execution_count": 10,
   "metadata": {},
   "outputs": [
    {
     "name": "stdout",
     "output_type": "stream",
     "text": [
      "50\n"
     ]
    }
   ],
   "source": [
    "print(50%100)"
   ]
  },
  {
   "cell_type": "code",
   "execution_count": 6,
   "metadata": {},
   "outputs": [
    {
     "name": "stdout",
     "output_type": "stream",
     "text": [
      "[0 0 0 0 0 0 0 0 0 0 0 0 0 0 0 0 0 0 0 0 0 0 0 0 0 0 0 0 0 0 0 0 0 0 0 0 0\n",
      " 0 0 0 0 0 0 0 0 0 0 0 0 0 0 0 0 0 0 0 0 0 0 0 0 0 0 0 0 0 0 0 0 0 0 0 0 0\n",
      " 0 0 0 0 0 0 0 0 0 0 0 0 0 0 0 0 0 0 0 0 0 0 0 0 0 0]\n"
     ]
    }
   ],
   "source": [
    "import numpy\n",
    "N=10\n",
    "old_grid = numpy.zeros(N*N, dtype='i')\n",
    "print(old_grid)"
   ]
  },
  {
   "cell_type": "code",
   "execution_count": null,
   "metadata": {},
   "outputs": [],
   "source": [
    "import numpy as np\n",
    "    \n",
    "\n",
    "def play_GoL(Grid,N):\n",
    "    for i in range(N):\n",
    "        for j in range(N):\n",
    "            LN=Grid[i,(j-1)%N]+Grid[i,(j+1)%N]+Grid[(i-1)%N,j]+Grid[(i+1)%N,j]+ grid[(i-1)%N, (j-1)%N] + grid[(i-1)%N, (j+1)%N] + \n",
    "                         grid[(i+1)%N, (j-1)%N] + grid[(i+1)%N, (j+1)%N]\n",
    "            if(Grid[i,j]==1 and(LN>3 or LN<2)):\n",
    "                #Any live cell with fewer than two live neighbours dies\n",
    "                #Any live cell with more than three live neighbours dies\n",
    "                NewGrid[i,j]=0\n",
    "            elif (Grid[i,j]==0 and LN==3):\n",
    "                #Any dead cell with exactly three live neighbours becomes a live cell.\n",
    "                NewGrid[i,j]=1\n",
    "            elif( Grid[i,j]==1 and (LN==2 or LN==3)):\n",
    "                #Any live cell with two or three live neighbours lives, unchanged, to the next generation.\n",
    "                NewGrid[i,j]=1\n",
    "                \n",
    "\n",
    "#build the grid\n",
    "def Create_Grid():\n",
    "    Grid=np.zeros(N*N, dtype='i').reshape(N,N)\n",
    "\n",
    "                    \n",
    "                    \n",
    "        "
   ]
  }
 ],
 "metadata": {
  "kernelspec": {
   "display_name": "Python 3",
   "language": "python",
   "name": "python3"
  },
  "language_info": {
   "codemirror_mode": {
    "name": "ipython",
    "version": 3
   },
   "file_extension": ".py",
   "mimetype": "text/x-python",
   "name": "python",
   "nbconvert_exporter": "python",
   "pygments_lexer": "ipython3",
   "version": "3.7.0"
  }
 },
 "nbformat": 4,
 "nbformat_minor": 2
}
